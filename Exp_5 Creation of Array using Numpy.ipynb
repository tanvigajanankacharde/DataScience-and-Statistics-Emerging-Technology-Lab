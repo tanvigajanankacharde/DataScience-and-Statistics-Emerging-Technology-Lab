{
 "cells": [
  {
   "cell_type": "markdown",
   "id": "4008d1f9",
   "metadata": {},
   "source": [
    "# Creation of Array"
   ]
  },
  {
   "cell_type": "code",
   "execution_count": 1,
   "id": "97d44b19",
   "metadata": {},
   "outputs": [],
   "source": [
    "#Exp no:5"
   ]
  },
  {
   "cell_type": "code",
   "execution_count": 2,
   "id": "f4b11b2d",
   "metadata": {},
   "outputs": [],
   "source": [
    "#Aim:To perform Creation of Array using Numpy"
   ]
  },
  {
   "cell_type": "code",
   "execution_count": 3,
   "id": "55e83fb7",
   "metadata": {},
   "outputs": [],
   "source": [
    "#Name:Tanvi Gajanan Kacharde\n",
    "#Roll no:25\n",
    "#Sec:A\n",
    "#Subject:ET1\n",
    "#Date:19-08-2025"
   ]
  },
  {
   "cell_type": "code",
   "execution_count": 4,
   "id": "4655472f",
   "metadata": {},
   "outputs": [],
   "source": [
    "#importing the basic library\n",
    "import numpy as np"
   ]
  },
  {
   "cell_type": "code",
   "execution_count": 22,
   "id": "73b1f7d7",
   "metadata": {},
   "outputs": [],
   "source": [
    "# Creating 1D Array Using Numpy"
   ]
  },
  {
   "cell_type": "code",
   "execution_count": 23,
   "id": "48ce3797",
   "metadata": {},
   "outputs": [],
   "source": [
    "a1=np.array([10,20,30,40,50])"
   ]
  },
  {
   "cell_type": "code",
   "execution_count": 24,
   "id": "3091a333",
   "metadata": {},
   "outputs": [
    {
     "data": {
      "text/plain": [
       "array([10, 20, 30, 40, 50])"
      ]
     },
     "execution_count": 24,
     "metadata": {},
     "output_type": "execute_result"
    }
   ],
   "source": [
    "a1"
   ]
  },
  {
   "cell_type": "code",
   "execution_count": 25,
   "id": "d9224356",
   "metadata": {},
   "outputs": [],
   "source": [
    "# Creating 2D Array Using Numpy"
   ]
  },
  {
   "cell_type": "code",
   "execution_count": 26,
   "id": "61d37a79",
   "metadata": {},
   "outputs": [],
   "source": [
    "a2=np.array([[10,20,30,40,50],[60,70,80,90,100]])"
   ]
  },
  {
   "cell_type": "code",
   "execution_count": 27,
   "id": "710fbffe",
   "metadata": {},
   "outputs": [
    {
     "data": {
      "text/plain": [
       "array([[ 10,  20,  30,  40,  50],\n",
       "       [ 60,  70,  80,  90, 100]])"
      ]
     },
     "execution_count": 27,
     "metadata": {},
     "output_type": "execute_result"
    }
   ],
   "source": [
    "a2"
   ]
  },
  {
   "cell_type": "code",
   "execution_count": 28,
   "id": "799c92cb",
   "metadata": {},
   "outputs": [
    {
     "name": "stdout",
     "output_type": "stream",
     "text": [
      "[[11 22]\n",
      " [33 44]\n",
      " [55 66]]\n"
     ]
    }
   ],
   "source": [
    "a3=np.matrix('11 22;33 44;55 66')\n",
    "print(a3)"
   ]
  },
  {
   "cell_type": "code",
   "execution_count": null,
   "id": "2a65ba64",
   "metadata": {},
   "outputs": [],
   "source": []
  }
 ],
 "metadata": {
  "kernelspec": {
   "display_name": "Python 3 (ipykernel)",
   "language": "python",
   "name": "python3"
  },
  "language_info": {
   "codemirror_mode": {
    "name": "ipython",
    "version": 3
   },
   "file_extension": ".py",
   "mimetype": "text/x-python",
   "name": "python",
   "nbconvert_exporter": "python",
   "pygments_lexer": "ipython3",
   "version": "3.9.7"
  }
 },
 "nbformat": 4,
 "nbformat_minor": 5
}
