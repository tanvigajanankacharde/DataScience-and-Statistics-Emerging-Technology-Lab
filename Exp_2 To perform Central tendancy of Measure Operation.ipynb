{
 "cells": [
  {
   "cell_type": "markdown",
   "id": "816fd34c",
   "metadata": {},
   "source": [
    "# Central tendancy of Measure "
   ]
  },
  {
   "cell_type": "code",
   "execution_count": 1,
   "id": "b8fa8a6a",
   "metadata": {},
   "outputs": [],
   "source": [
    "#Exp no:2"
   ]
  },
  {
   "cell_type": "code",
   "execution_count": 2,
   "id": "c0a519dc",
   "metadata": {},
   "outputs": [],
   "source": [
    "#Aim:To perform Central tendancy of Measure Operation"
   ]
  },
  {
   "cell_type": "code",
   "execution_count": 3,
   "id": "cdca076e",
   "metadata": {},
   "outputs": [],
   "source": [
    "#Name:Tanvi Gajanan Kacharde\n",
    "#Roll no:25\n",
    "#Sec:A\n",
    "#Subject:ET1\n",
    "#Date:04-08-2025"
   ]
  },
  {
   "cell_type": "code",
   "execution_count": 4,
   "id": "932d4d0a",
   "metadata": {},
   "outputs": [],
   "source": [
    "age=[20,21,22,23,22,20,20,23,22,21,20,23,21,21]"
   ]
  },
  {
   "cell_type": "code",
   "execution_count": 5,
   "id": "09f3fa9a",
   "metadata": {},
   "outputs": [
    {
     "name": "stdout",
     "output_type": "stream",
     "text": [
      "[20, 21, 22, 23, 22, 20, 20, 23, 22, 21, 20, 23, 21, 21]\n"
     ]
    }
   ],
   "source": [
    "print(age)"
   ]
  },
  {
   "cell_type": "code",
   "execution_count": 6,
   "id": "c56d91bb",
   "metadata": {},
   "outputs": [
    {
     "data": {
      "text/plain": [
       "[20, 21, 22, 23, 22, 20, 20, 23, 22, 21, 20, 23, 21, 21]"
      ]
     },
     "execution_count": 6,
     "metadata": {},
     "output_type": "execute_result"
    }
   ],
   "source": [
    "age"
   ]
  },
  {
   "cell_type": "code",
   "execution_count": 7,
   "id": "f3a9bafe",
   "metadata": {},
   "outputs": [],
   "source": [
    "#importing library\n",
    "import statistics as st"
   ]
  },
  {
   "cell_type": "code",
   "execution_count": 8,
   "id": "ddfefb68",
   "metadata": {},
   "outputs": [],
   "source": [
    "a=st.mean(age)"
   ]
  },
  {
   "cell_type": "code",
   "execution_count": 9,
   "id": "3d674d74",
   "metadata": {},
   "outputs": [
    {
     "data": {
      "text/plain": [
       "21.357142857142858"
      ]
     },
     "execution_count": 9,
     "metadata": {},
     "output_type": "execute_result"
    }
   ],
   "source": [
    "a"
   ]
  },
  {
   "cell_type": "code",
   "execution_count": 10,
   "id": "f1943811",
   "metadata": {},
   "outputs": [],
   "source": [
    "b=st.median(age)"
   ]
  },
  {
   "cell_type": "code",
   "execution_count": 11,
   "id": "159c1d59",
   "metadata": {},
   "outputs": [
    {
     "data": {
      "text/plain": [
       "21.0"
      ]
     },
     "execution_count": 11,
     "metadata": {},
     "output_type": "execute_result"
    }
   ],
   "source": [
    "b"
   ]
  },
  {
   "cell_type": "code",
   "execution_count": 12,
   "id": "ed031551",
   "metadata": {},
   "outputs": [],
   "source": [
    "c=st.mode(age)"
   ]
  },
  {
   "cell_type": "code",
   "execution_count": 13,
   "id": "b1fabf66",
   "metadata": {},
   "outputs": [
    {
     "data": {
      "text/plain": [
       "20"
      ]
     },
     "execution_count": 13,
     "metadata": {},
     "output_type": "execute_result"
    }
   ],
   "source": [
    "c"
   ]
  },
  {
   "cell_type": "markdown",
   "id": "ba0c07a9",
   "metadata": {},
   "source": [
    "# Performing central tendancy of measure using numpy"
   ]
  },
  {
   "cell_type": "code",
   "execution_count": 14,
   "id": "8f02ad00",
   "metadata": {},
   "outputs": [],
   "source": [
    "import numpy as np"
   ]
  },
  {
   "cell_type": "code",
   "execution_count": 15,
   "id": "1f3789a6",
   "metadata": {},
   "outputs": [],
   "source": [
    "x=np.array([1,2,3,4,5,6,7,8,9,10])"
   ]
  },
  {
   "cell_type": "code",
   "execution_count": 16,
   "id": "4ae8b436",
   "metadata": {},
   "outputs": [
    {
     "data": {
      "text/plain": [
       "array([ 1,  2,  3,  4,  5,  6,  7,  8,  9, 10])"
      ]
     },
     "execution_count": 16,
     "metadata": {},
     "output_type": "execute_result"
    }
   ],
   "source": [
    "x"
   ]
  },
  {
   "cell_type": "code",
   "execution_count": 17,
   "id": "ff26202e",
   "metadata": {},
   "outputs": [
    {
     "name": "stdout",
     "output_type": "stream",
     "text": [
      "5.5\n"
     ]
    }
   ],
   "source": [
    "print(np.mean(x))"
   ]
  },
  {
   "cell_type": "code",
   "execution_count": 18,
   "id": "2a15a35c",
   "metadata": {},
   "outputs": [
    {
     "name": "stdout",
     "output_type": "stream",
     "text": [
      "5.5\n"
     ]
    }
   ],
   "source": [
    "print(np.median(x))"
   ]
  },
  {
   "cell_type": "code",
   "execution_count": 19,
   "id": "c19a8da3",
   "metadata": {},
   "outputs": [],
   "source": [
    "#Performing measure of Dispersion\n",
    "from scipy import stats"
   ]
  },
  {
   "cell_type": "code",
   "execution_count": 20,
   "id": "ea18dbfb",
   "metadata": {},
   "outputs": [
    {
     "name": "stdout",
     "output_type": "stream",
     "text": [
      "ModeResult(mode=array([1]), count=array([1]))\n"
     ]
    }
   ],
   "source": [
    "print(stats.mode(x))"
   ]
  },
  {
   "cell_type": "code",
   "execution_count": 21,
   "id": "cee5e52a",
   "metadata": {},
   "outputs": [
    {
     "name": "stdout",
     "output_type": "stream",
     "text": [
      "2.8722813232690143\n"
     ]
    }
   ],
   "source": [
    "print(np.std(x))"
   ]
  },
  {
   "cell_type": "code",
   "execution_count": 22,
   "id": "57043553",
   "metadata": {},
   "outputs": [
    {
     "name": "stdout",
     "output_type": "stream",
     "text": [
      "8.25\n"
     ]
    }
   ],
   "source": [
    "print(np.var(x))"
   ]
  },
  {
   "cell_type": "code",
   "execution_count": null,
   "id": "7887d99d",
   "metadata": {},
   "outputs": [],
   "source": []
  }
 ],
 "metadata": {
  "kernelspec": {
   "display_name": "Python 3 (ipykernel)",
   "language": "python",
   "name": "python3"
  },
  "language_info": {
   "codemirror_mode": {
    "name": "ipython",
    "version": 3
   },
   "file_extension": ".py",
   "mimetype": "text/x-python",
   "name": "python",
   "nbconvert_exporter": "python",
   "pygments_lexer": "ipython3",
   "version": "3.9.7"
  }
 },
 "nbformat": 4,
 "nbformat_minor": 5
}
